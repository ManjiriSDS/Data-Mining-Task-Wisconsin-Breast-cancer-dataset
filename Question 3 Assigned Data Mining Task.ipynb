{
 "cells": [
  {
   "cell_type": "markdown",
   "metadata": {},
   "source": [
    "# Logistic Regression"
   ]
  },
  {
   "cell_type": "markdown",
   "metadata": {},
   "source": [
    "#### Author : Manjiri Sawant"
   ]
  },
  {
   "cell_type": "markdown",
   "metadata": {},
   "source": [
    "### importing Libraries"
   ]
  },
  {
   "cell_type": "markdown",
   "metadata": {},
   "source": [
    "The following code written in python 3.x. Libraries provide pre-written functionally to perform necessary tasks"
   ]
  },
  {
   "cell_type": "code",
   "execution_count": 1,
   "metadata": {},
   "outputs": [],
   "source": [
    "#importing libraries\n",
    "import pandas as pd\n",
    "import numpy as np\n",
    "import matplotlib.pyplot as plt\n",
    "%matplotlib inline\n",
    "\n",
    "import warnings\n",
    "warnings.filterwarnings('ignore')"
   ]
  },
  {
   "cell_type": "markdown",
   "metadata": {},
   "source": [
    "#### Importing the Data"
   ]
  },
  {
   "cell_type": "code",
   "execution_count": 2,
   "metadata": {},
   "outputs": [],
   "source": [
    "cancer = pd.read_csv('C:/Users/Public/Documents/wdbc_cancerdata.csv', header = None)"
   ]
  },
  {
   "cell_type": "code",
   "execution_count": 3,
   "metadata": {},
   "outputs": [
    {
     "data": {
      "text/plain": [
       "(569, 32)"
      ]
     },
     "execution_count": 3,
     "metadata": {},
     "output_type": "execute_result"
    }
   ],
   "source": [
    "cancer.shape"
   ]
  },
  {
   "cell_type": "code",
   "execution_count": 4,
   "metadata": {},
   "outputs": [],
   "source": [
    "#assigning column names to respective columns\n",
    "cancer.columns = ['col1','col2','col3','col4','col5','col6','col7','col8','col9','col10',\n",
    "                    'col11','col12','col13','col14','col15','col16','col17','col18','col19','col20',\n",
    "                    'col21','col22','col23','col24','col25','col26','col27','col28','col29',\n",
    "                    'col30','col31','col32']"
   ]
  },
  {
   "cell_type": "code",
   "execution_count": 5,
   "metadata": {},
   "outputs": [
    {
     "data": {
      "text/html": [
       "<div>\n",
       "<style scoped>\n",
       "    .dataframe tbody tr th:only-of-type {\n",
       "        vertical-align: middle;\n",
       "    }\n",
       "\n",
       "    .dataframe tbody tr th {\n",
       "        vertical-align: top;\n",
       "    }\n",
       "\n",
       "    .dataframe thead th {\n",
       "        text-align: right;\n",
       "    }\n",
       "</style>\n",
       "<table border=\"1\" class=\"dataframe\">\n",
       "  <thead>\n",
       "    <tr style=\"text-align: right;\">\n",
       "      <th></th>\n",
       "      <th>col1</th>\n",
       "      <th>col2</th>\n",
       "      <th>col3</th>\n",
       "      <th>col4</th>\n",
       "      <th>col5</th>\n",
       "      <th>col6</th>\n",
       "      <th>col7</th>\n",
       "      <th>col8</th>\n",
       "      <th>col9</th>\n",
       "      <th>col10</th>\n",
       "      <th>...</th>\n",
       "      <th>col23</th>\n",
       "      <th>col24</th>\n",
       "      <th>col25</th>\n",
       "      <th>col26</th>\n",
       "      <th>col27</th>\n",
       "      <th>col28</th>\n",
       "      <th>col29</th>\n",
       "      <th>col30</th>\n",
       "      <th>col31</th>\n",
       "      <th>col32</th>\n",
       "    </tr>\n",
       "  </thead>\n",
       "  <tbody>\n",
       "    <tr>\n",
       "      <th>0</th>\n",
       "      <td>842302</td>\n",
       "      <td>M</td>\n",
       "      <td>17.99</td>\n",
       "      <td>10.38</td>\n",
       "      <td>122.80</td>\n",
       "      <td>1001.0</td>\n",
       "      <td>0.11840</td>\n",
       "      <td>0.27760</td>\n",
       "      <td>0.3001</td>\n",
       "      <td>0.14710</td>\n",
       "      <td>...</td>\n",
       "      <td>25.38</td>\n",
       "      <td>17.33</td>\n",
       "      <td>184.60</td>\n",
       "      <td>2019.0</td>\n",
       "      <td>0.1622</td>\n",
       "      <td>0.6656</td>\n",
       "      <td>0.7119</td>\n",
       "      <td>0.2654</td>\n",
       "      <td>0.4601</td>\n",
       "      <td>0.11890</td>\n",
       "    </tr>\n",
       "    <tr>\n",
       "      <th>1</th>\n",
       "      <td>842517</td>\n",
       "      <td>M</td>\n",
       "      <td>20.57</td>\n",
       "      <td>17.77</td>\n",
       "      <td>132.90</td>\n",
       "      <td>1326.0</td>\n",
       "      <td>0.08474</td>\n",
       "      <td>0.07864</td>\n",
       "      <td>0.0869</td>\n",
       "      <td>0.07017</td>\n",
       "      <td>...</td>\n",
       "      <td>24.99</td>\n",
       "      <td>23.41</td>\n",
       "      <td>158.80</td>\n",
       "      <td>1956.0</td>\n",
       "      <td>0.1238</td>\n",
       "      <td>0.1866</td>\n",
       "      <td>0.2416</td>\n",
       "      <td>0.1860</td>\n",
       "      <td>0.2750</td>\n",
       "      <td>0.08902</td>\n",
       "    </tr>\n",
       "    <tr>\n",
       "      <th>2</th>\n",
       "      <td>84300903</td>\n",
       "      <td>M</td>\n",
       "      <td>19.69</td>\n",
       "      <td>21.25</td>\n",
       "      <td>130.00</td>\n",
       "      <td>1203.0</td>\n",
       "      <td>0.10960</td>\n",
       "      <td>0.15990</td>\n",
       "      <td>0.1974</td>\n",
       "      <td>0.12790</td>\n",
       "      <td>...</td>\n",
       "      <td>23.57</td>\n",
       "      <td>25.53</td>\n",
       "      <td>152.50</td>\n",
       "      <td>1709.0</td>\n",
       "      <td>0.1444</td>\n",
       "      <td>0.4245</td>\n",
       "      <td>0.4504</td>\n",
       "      <td>0.2430</td>\n",
       "      <td>0.3613</td>\n",
       "      <td>0.08758</td>\n",
       "    </tr>\n",
       "    <tr>\n",
       "      <th>3</th>\n",
       "      <td>84348301</td>\n",
       "      <td>M</td>\n",
       "      <td>11.42</td>\n",
       "      <td>20.38</td>\n",
       "      <td>77.58</td>\n",
       "      <td>386.1</td>\n",
       "      <td>0.14250</td>\n",
       "      <td>0.28390</td>\n",
       "      <td>0.2414</td>\n",
       "      <td>0.10520</td>\n",
       "      <td>...</td>\n",
       "      <td>14.91</td>\n",
       "      <td>26.50</td>\n",
       "      <td>98.87</td>\n",
       "      <td>567.7</td>\n",
       "      <td>0.2098</td>\n",
       "      <td>0.8663</td>\n",
       "      <td>0.6869</td>\n",
       "      <td>0.2575</td>\n",
       "      <td>0.6638</td>\n",
       "      <td>0.17300</td>\n",
       "    </tr>\n",
       "    <tr>\n",
       "      <th>4</th>\n",
       "      <td>84358402</td>\n",
       "      <td>M</td>\n",
       "      <td>20.29</td>\n",
       "      <td>14.34</td>\n",
       "      <td>135.10</td>\n",
       "      <td>1297.0</td>\n",
       "      <td>0.10030</td>\n",
       "      <td>0.13280</td>\n",
       "      <td>0.1980</td>\n",
       "      <td>0.10430</td>\n",
       "      <td>...</td>\n",
       "      <td>22.54</td>\n",
       "      <td>16.67</td>\n",
       "      <td>152.20</td>\n",
       "      <td>1575.0</td>\n",
       "      <td>0.1374</td>\n",
       "      <td>0.2050</td>\n",
       "      <td>0.4000</td>\n",
       "      <td>0.1625</td>\n",
       "      <td>0.2364</td>\n",
       "      <td>0.07678</td>\n",
       "    </tr>\n",
       "  </tbody>\n",
       "</table>\n",
       "<p>5 rows × 32 columns</p>\n",
       "</div>"
      ],
      "text/plain": [
       "       col1 col2   col3   col4    col5    col6     col7     col8    col9  \\\n",
       "0    842302    M  17.99  10.38  122.80  1001.0  0.11840  0.27760  0.3001   \n",
       "1    842517    M  20.57  17.77  132.90  1326.0  0.08474  0.07864  0.0869   \n",
       "2  84300903    M  19.69  21.25  130.00  1203.0  0.10960  0.15990  0.1974   \n",
       "3  84348301    M  11.42  20.38   77.58   386.1  0.14250  0.28390  0.2414   \n",
       "4  84358402    M  20.29  14.34  135.10  1297.0  0.10030  0.13280  0.1980   \n",
       "\n",
       "     col10  ...  col23  col24   col25   col26   col27   col28   col29   col30  \\\n",
       "0  0.14710  ...  25.38  17.33  184.60  2019.0  0.1622  0.6656  0.7119  0.2654   \n",
       "1  0.07017  ...  24.99  23.41  158.80  1956.0  0.1238  0.1866  0.2416  0.1860   \n",
       "2  0.12790  ...  23.57  25.53  152.50  1709.0  0.1444  0.4245  0.4504  0.2430   \n",
       "3  0.10520  ...  14.91  26.50   98.87   567.7  0.2098  0.8663  0.6869  0.2575   \n",
       "4  0.10430  ...  22.54  16.67  152.20  1575.0  0.1374  0.2050  0.4000  0.1625   \n",
       "\n",
       "    col31    col32  \n",
       "0  0.4601  0.11890  \n",
       "1  0.2750  0.08902  \n",
       "2  0.3613  0.08758  \n",
       "3  0.6638  0.17300  \n",
       "4  0.2364  0.07678  \n",
       "\n",
       "[5 rows x 32 columns]"
      ]
     },
     "execution_count": 5,
     "metadata": {},
     "output_type": "execute_result"
    }
   ],
   "source": [
    "cancer.head()"
   ]
  },
  {
   "cell_type": "code",
   "execution_count": 6,
   "metadata": {},
   "outputs": [],
   "source": [
    "#Removing Unnecessary column\n",
    "cancer.drop(['col1'], axis = 1, inplace=True)"
   ]
  },
  {
   "cell_type": "markdown",
   "metadata": {},
   "source": [
    "### Separating Independent and Dependent Variables"
   ]
  },
  {
   "cell_type": "code",
   "execution_count": 7,
   "metadata": {},
   "outputs": [],
   "source": [
    "# separate numeric and categorical data \n",
    "numeric_data = cancer.select_dtypes(include = np.number)\n",
    "categoric_data = cancer.select_dtypes(exclude = np.number)"
   ]
  },
  {
   "cell_type": "markdown",
   "metadata": {},
   "source": [
    "## Normalize Data Using StandardScaler and LabelEncoder"
   ]
  },
  {
   "cell_type": "code",
   "execution_count": 8,
   "metadata": {},
   "outputs": [],
   "source": [
    "from sklearn.preprocessing import StandardScaler, LabelEncoder"
   ]
  },
  {
   "cell_type": "code",
   "execution_count": 9,
   "metadata": {},
   "outputs": [],
   "source": [
    "#Initialize Standard Scaler\n",
    "scaler = StandardScaler()\n",
    "data_scaled_n = scaler.fit_transform(numeric_data)"
   ]
  },
  {
   "cell_type": "code",
   "execution_count": 10,
   "metadata": {},
   "outputs": [],
   "source": [
    "#Initialize Label Encoder\n",
    "le = LabelEncoder()\n",
    "data_scaled_c = le.fit_transform(categoric_data)"
   ]
  },
  {
   "cell_type": "markdown",
   "metadata": {},
   "source": [
    "## Predict Using 'col3' attribute"
   ]
  },
  {
   "cell_type": "code",
   "execution_count": 11,
   "metadata": {},
   "outputs": [
    {
     "data": {
      "text/plain": [
       "((569, 1), (569, 1))"
      ]
     },
     "execution_count": 11,
     "metadata": {},
     "output_type": "execute_result"
    }
   ],
   "source": [
    "#separate 'col3' feature as 'x' and target as a 'y'\n",
    "x = pd.DataFrame(data_scaled_n[:569,2:3])\n",
    "y = pd.DataFrame(data_scaled_c)\n",
    "x.shape, y.shape"
   ]
  },
  {
   "cell_type": "markdown",
   "metadata": {},
   "source": [
    "### Splitting the data into Train set and Test set"
   ]
  },
  {
   "cell_type": "code",
   "execution_count": 12,
   "metadata": {},
   "outputs": [],
   "source": [
    "#Importing the train test split function\n",
    "from sklearn.model_selection import train_test_split\n",
    "train_x, test_x, train_y, test_y = train_test_split(x,y, random_state = 56)"
   ]
  },
  {
   "cell_type": "markdown",
   "metadata": {},
   "source": [
    "### Implementing Logistic Regression"
   ]
  },
  {
   "cell_type": "code",
   "execution_count": 13,
   "metadata": {},
   "outputs": [],
   "source": [
    "#importing Logistic Regression and metric F1 score\n",
    "from sklearn.linear_model import LogisticRegression as LogReg\n",
    "from sklearn.metrics import f1_score"
   ]
  },
  {
   "cell_type": "code",
   "execution_count": 14,
   "metadata": {},
   "outputs": [
    {
     "data": {
      "text/plain": [
       "LogisticRegression()"
      ]
     },
     "execution_count": 14,
     "metadata": {},
     "output_type": "execute_result"
    }
   ],
   "source": [
    "#Creating instance of Logistic Regression\n",
    "logreg = LogReg()\n",
    "\n",
    "#Fitting the model\n",
    "logreg.fit(train_x, train_y)"
   ]
  },
  {
   "cell_type": "markdown",
   "metadata": {},
   "source": [
    "### Making Prediction Using predict Function"
   ]
  },
  {
   "cell_type": "code",
   "execution_count": 15,
   "metadata": {},
   "outputs": [
    {
     "data": {
      "text/plain": [
       "array([1, 0, 1, 0, 1, 0, 1, 0, 0, 1, 1, 0, 1, 1, 0, 0, 1, 0, 0, 0, 0, 1,\n",
       "       1, 1, 0, 0, 0, 0, 1, 0, 1, 0, 1, 0, 0, 0, 0, 0, 0, 0, 1, 1, 1, 0,\n",
       "       1, 0, 1, 0, 1, 0, 1, 0, 0, 0, 0, 0, 0, 0, 1, 0, 1, 1, 0, 0, 1, 0,\n",
       "       0, 0, 0, 0, 1, 0, 0, 1, 1, 0, 0, 1, 0, 0, 0, 0, 0, 0, 0, 0, 0, 0,\n",
       "       0, 0, 0, 0, 0, 0, 0, 1, 0, 0, 0, 0, 0, 0, 0, 1, 0, 0, 0, 1, 0, 1,\n",
       "       1, 1, 0, 0, 0, 1, 0, 1, 0, 0, 1, 0, 1, 0, 1, 0, 0, 0, 0, 1, 1, 0,\n",
       "       1, 0, 1, 1, 1, 0, 0, 1, 1, 0, 0, 1, 0, 1, 0, 1, 0, 0, 0, 1, 0, 1,\n",
       "       1, 0, 1, 0, 0, 1, 0, 1, 0, 0, 0, 0, 0, 0, 1, 0, 0, 0, 0, 0, 0, 1,\n",
       "       0, 0, 1, 0, 0, 0, 1, 0, 1, 0, 0, 1, 0, 0, 0, 0, 0, 0, 0, 0, 0, 0,\n",
       "       0, 1, 0, 0, 0, 0, 0, 1, 0, 0, 0, 1, 0, 0, 0, 0, 0, 1, 0, 0, 1, 0,\n",
       "       0, 0, 0, 0, 0, 0, 0, 0, 1, 0, 1, 0, 0, 1, 0, 0, 1, 0, 0, 0, 1, 0,\n",
       "       0, 1, 0, 0, 0, 0, 0, 1, 1, 1, 1, 0, 1, 0, 0, 0, 0, 0, 1, 1, 0, 1,\n",
       "       0, 0, 0, 0, 0, 1, 0, 1, 0, 0, 0, 0, 0, 0, 0, 0, 0, 0, 0, 0, 1, 0,\n",
       "       0, 0, 0, 0, 0, 0, 1, 1, 0, 1, 1, 0, 1, 1, 0, 0, 0, 1, 0, 1, 0, 0,\n",
       "       1, 1, 0, 0, 1, 1, 0, 0, 0, 1, 0, 1, 0, 0, 0, 0, 0, 1, 0, 0, 0, 1,\n",
       "       0, 0, 0, 0, 1, 0, 0, 0, 1, 0, 0, 0, 0, 0, 0, 0, 0, 1, 0, 0, 1, 0,\n",
       "       0, 0, 1, 0, 0, 0, 0, 0, 1, 1, 1, 0, 0, 1, 0, 1, 0, 0, 0, 1, 0, 0,\n",
       "       0, 0, 0, 0, 0, 1, 0, 1, 0, 0, 0, 0, 1, 0, 0, 1, 0, 0, 1, 0, 1, 0,\n",
       "       0, 0, 1, 1, 0, 0, 0, 1, 0, 1, 0, 0, 1, 0, 1, 0, 1, 0, 0, 1, 0, 1,\n",
       "       1, 1, 1, 0, 0, 0, 0, 1])"
      ]
     },
     "execution_count": 15,
     "metadata": {},
     "output_type": "execute_result"
    }
   ],
   "source": [
    "#Predicting over the Train\n",
    "train_predict = logreg.predict(train_x)\n",
    "train_predict"
   ]
  },
  {
   "cell_type": "code",
   "execution_count": 16,
   "metadata": {},
   "outputs": [
    {
     "name": "stdout",
     "output_type": "stream",
     "text": [
      "Training f1_score    0.8085106382978724\n"
     ]
    }
   ],
   "source": [
    "#Calculating f1 - score\n",
    "k = f1_score(train_predict, train_y)\n",
    "print('Training f1_score   ', k)"
   ]
  },
  {
   "cell_type": "code",
   "execution_count": 17,
   "metadata": {},
   "outputs": [
    {
     "name": "stdout",
     "output_type": "stream",
     "text": [
      "Test f1_score    0.9166666666666667\n"
     ]
    }
   ],
   "source": [
    "#Prediction over the Test Set and f1-score\n",
    "test_predict = logreg.predict(test_x)\n",
    "k = f1_score(test_predict, test_y)\n",
    "print('Test f1_score   ', k)"
   ]
  },
  {
   "cell_type": "markdown",
   "metadata": {},
   "source": [
    "## Create Histogram for Each Attribute and Each Class"
   ]
  },
  {
   "cell_type": "code",
   "execution_count": 18,
   "metadata": {},
   "outputs": [
    {
     "data": {
      "image/png": "[encoded data removed]",
      "text/plain": [
       "<Figure size 432x288 with 1 Axes>"
      ]
     },
     "metadata": {},
     "output_type": "display_data"
    }
   ],
   "source": [
    "plt.style.use('ggplot')\n",
    "cancer.groupby('col2')['col3'].hist()\n",
    "plt.tight_layout()\n",
    "plt.show()"
   ]
  },
  {
   "cell_type": "code",
   "execution_count": 19,
   "metadata": {},
   "outputs": [
    {
     "data": {
      "image/png": "[encoded data removed]",
      "text/plain": [
       "<Figure size 720x1080 with 30 Axes>"
      ]
     },
     "metadata": {},
     "output_type": "display_data"
    }
   ],
   "source": [
    "plt.style.use('ggplot')\n",
    "cancer.hist(figsize = (10,15))\n",
    "plt.tight_layout()\n",
    "plt.show()"
   ]
  },
  {
   "cell_type": "markdown",
   "metadata": {},
   "source": [
    "### Making Predictions Using Predict_proba Function"
   ]
  },
  {
   "cell_type": "code",
   "execution_count": 20,
   "metadata": {},
   "outputs": [
    {
     "data": {
      "text/plain": [
       "array([[0.05982502, 0.94017498],\n",
       "       [0.64074115, 0.35925885],\n",
       "       [0.05982502, 0.94017498],\n",
       "       [0.64074115, 0.35925885],\n",
       "       [0.05982502, 0.94017498],\n",
       "       [0.64074115, 0.35925885],\n",
       "       [0.05982502, 0.94017498],\n",
       "       [0.64074115, 0.35925885],\n",
       "       [0.64074115, 0.35925885],\n",
       "       [0.64074115, 0.35925885],\n",
       "       [0.05982502, 0.94017498],\n",
       "       [0.64074115, 0.35925885],\n",
       "       [0.05982502, 0.94017498],\n",
       "       [0.05982502, 0.94017498],\n",
       "       [0.64074115, 0.35925885],\n",
       "       [0.64074115, 0.35925885],\n",
       "       [0.05982502, 0.94017498],\n",
       "       [0.64074115, 0.35925885],\n",
       "       [0.64074115, 0.35925885],\n",
       "       [0.64074115, 0.35925885],\n",
       "       [0.64074115, 0.35925885],\n",
       "       [0.64074115, 0.35925885],\n",
       "       [0.05982502, 0.94017498],\n",
       "       [0.05982502, 0.94017498],\n",
       "       [0.64074115, 0.35925885],\n",
       "       [0.64074115, 0.35925885],\n",
       "       [0.64074115, 0.35925885],\n",
       "       [0.05982502, 0.94017498],\n",
       "       [0.05982502, 0.94017498],\n",
       "       [0.64074115, 0.35925885],\n",
       "       [0.05982502, 0.94017498],\n",
       "       [0.64074115, 0.35925885],\n",
       "       [0.64074115, 0.35925885],\n",
       "       [0.64074115, 0.35925885],\n",
       "       [0.05982502, 0.94017498],\n",
       "       [0.64074115, 0.35925885],\n",
       "       [0.64074115, 0.35925885],\n",
       "       [0.64074115, 0.35925885],\n",
       "       [0.64074115, 0.35925885],\n",
       "       [0.64074115, 0.35925885],\n",
       "       [0.64074115, 0.35925885],\n",
       "       [0.05982502, 0.94017498],\n",
       "       [0.05982502, 0.94017498],\n",
       "       [0.64074115, 0.35925885],\n",
       "       [0.05982502, 0.94017498],\n",
       "       [0.64074115, 0.35925885],\n",
       "       [0.05982502, 0.94017498],\n",
       "       [0.64074115, 0.35925885],\n",
       "       [0.05982502, 0.94017498],\n",
       "       [0.05982502, 0.94017498],\n",
       "       [0.05982502, 0.94017498],\n",
       "       [0.64074115, 0.35925885],\n",
       "       [0.64074115, 0.35925885],\n",
       "       [0.64074115, 0.35925885],\n",
       "       [0.64074115, 0.35925885],\n",
       "       [0.05982502, 0.94017498],\n",
       "       [0.05982502, 0.94017498],\n",
       "       [0.64074115, 0.35925885],\n",
       "       [0.05982502, 0.94017498],\n",
       "       [0.05982502, 0.94017498],\n",
       "       [0.64074115, 0.35925885],\n",
       "       [0.05982502, 0.94017498],\n",
       "       [0.64074115, 0.35925885],\n",
       "       [0.64074115, 0.35925885],\n",
       "       [0.64074115, 0.35925885],\n",
       "       [0.64074115, 0.35925885],\n",
       "       [0.64074115, 0.35925885],\n",
       "       [0.64074115, 0.35925885],\n",
       "       [0.64074115, 0.35925885],\n",
       "       [0.05982502, 0.94017498],\n",
       "       [0.05982502, 0.94017498],\n",
       "       [0.64074115, 0.35925885],\n",
       "       [0.64074115, 0.35925885],\n",
       "       [0.05982502, 0.94017498],\n",
       "       [0.64074115, 0.35925885],\n",
       "       [0.64074115, 0.35925885],\n",
       "       [0.05982502, 0.94017498],\n",
       "       [0.05982502, 0.94017498],\n",
       "       [0.64074115, 0.35925885],\n",
       "       [0.64074115, 0.35925885],\n",
       "       [0.64074115, 0.35925885],\n",
       "       [0.64074115, 0.35925885],\n",
       "       [0.05982502, 0.94017498],\n",
       "       [0.64074115, 0.35925885],\n",
       "       [0.05982502, 0.94017498],\n",
       "       [0.64074115, 0.35925885],\n",
       "       [0.64074115, 0.35925885],\n",
       "       [0.64074115, 0.35925885],\n",
       "       [0.64074115, 0.35925885],\n",
       "       [0.64074115, 0.35925885],\n",
       "       [0.64074115, 0.35925885],\n",
       "       [0.64074115, 0.35925885],\n",
       "       [0.05982502, 0.94017498],\n",
       "       [0.64074115, 0.35925885],\n",
       "       [0.64074115, 0.35925885],\n",
       "       [0.64074115, 0.35925885],\n",
       "       [0.64074115, 0.35925885],\n",
       "       [0.64074115, 0.35925885],\n",
       "       [0.64074115, 0.35925885],\n",
       "       [0.64074115, 0.35925885],\n",
       "       [0.64074115, 0.35925885],\n",
       "       [0.64074115, 0.35925885],\n",
       "       [0.64074115, 0.35925885],\n",
       "       [0.05982502, 0.94017498],\n",
       "       [0.64074115, 0.35925885],\n",
       "       [0.64074115, 0.35925885],\n",
       "       [0.64074115, 0.35925885],\n",
       "       [0.05982502, 0.94017498],\n",
       "       [0.64074115, 0.35925885],\n",
       "       [0.05982502, 0.94017498],\n",
       "       [0.05982502, 0.94017498],\n",
       "       [0.05982502, 0.94017498],\n",
       "       [0.64074115, 0.35925885],\n",
       "       [0.64074115, 0.35925885],\n",
       "       [0.64074115, 0.35925885],\n",
       "       [0.05982502, 0.94017498],\n",
       "       [0.64074115, 0.35925885],\n",
       "       [0.05982502, 0.94017498],\n",
       "       [0.64074115, 0.35925885],\n",
       "       [0.64074115, 0.35925885],\n",
       "       [0.64074115, 0.35925885],\n",
       "       [0.64074115, 0.35925885],\n",
       "       [0.05982502, 0.94017498],\n",
       "       [0.64074115, 0.35925885],\n",
       "       [0.05982502, 0.94017498],\n",
       "       [0.64074115, 0.35925885],\n",
       "       [0.64074115, 0.35925885],\n",
       "       [0.64074115, 0.35925885],\n",
       "       [0.64074115, 0.35925885],\n",
       "       [0.05982502, 0.94017498],\n",
       "       [0.05982502, 0.94017498],\n",
       "       [0.64074115, 0.35925885],\n",
       "       [0.05982502, 0.94017498],\n",
       "       [0.05982502, 0.94017498],\n",
       "       [0.05982502, 0.94017498],\n",
       "       [0.05982502, 0.94017498],\n",
       "       [0.05982502, 0.94017498],\n",
       "       [0.64074115, 0.35925885],\n",
       "       [0.64074115, 0.35925885],\n",
       "       [0.64074115, 0.35925885],\n",
       "       [0.05982502, 0.94017498],\n",
       "       [0.64074115, 0.35925885],\n",
       "       [0.05982502, 0.94017498],\n",
       "       [0.05982502, 0.94017498],\n",
       "       [0.64074115, 0.35925885],\n",
       "       [0.05982502, 0.94017498],\n",
       "       [0.64074115, 0.35925885],\n",
       "       [0.05982502, 0.94017498],\n",
       "       [0.64074115, 0.35925885],\n",
       "       [0.64074115, 0.35925885],\n",
       "       [0.64074115, 0.35925885],\n",
       "       [0.64074115, 0.35925885],\n",
       "       [0.64074115, 0.35925885],\n",
       "       [0.05982502, 0.94017498],\n",
       "       [0.05982502, 0.94017498],\n",
       "       [0.64074115, 0.35925885],\n",
       "       [0.05982502, 0.94017498],\n",
       "       [0.64074115, 0.35925885],\n",
       "       [0.64074115, 0.35925885],\n",
       "       [0.05982502, 0.94017498],\n",
       "       [0.64074115, 0.35925885],\n",
       "       [0.05982502, 0.94017498],\n",
       "       [0.64074115, 0.35925885],\n",
       "       [0.64074115, 0.35925885],\n",
       "       [0.64074115, 0.35925885],\n",
       "       [0.64074115, 0.35925885],\n",
       "       [0.64074115, 0.35925885],\n",
       "       [0.64074115, 0.35925885],\n",
       "       [0.64074115, 0.35925885],\n",
       "       [0.64074115, 0.35925885],\n",
       "       [0.64074115, 0.35925885],\n",
       "       [0.64074115, 0.35925885],\n",
       "       [0.64074115, 0.35925885],\n",
       "       [0.64074115, 0.35925885],\n",
       "       [0.64074115, 0.35925885],\n",
       "       [0.05982502, 0.94017498],\n",
       "       [0.64074115, 0.35925885],\n",
       "       [0.64074115, 0.35925885],\n",
       "       [0.05982502, 0.94017498],\n",
       "       [0.64074115, 0.35925885],\n",
       "       [0.64074115, 0.35925885],\n",
       "       [0.05982502, 0.94017498],\n",
       "       [0.05982502, 0.94017498],\n",
       "       [0.64074115, 0.35925885],\n",
       "       [0.05982502, 0.94017498],\n",
       "       [0.05982502, 0.94017498],\n",
       "       [0.64074115, 0.35925885],\n",
       "       [0.05982502, 0.94017498],\n",
       "       [0.64074115, 0.35925885],\n",
       "       [0.64074115, 0.35925885],\n",
       "       [0.05982502, 0.94017498],\n",
       "       [0.64074115, 0.35925885],\n",
       "       [0.05982502, 0.94017498],\n",
       "       [0.64074115, 0.35925885],\n",
       "       [0.64074115, 0.35925885],\n",
       "       [0.64074115, 0.35925885],\n",
       "       [0.64074115, 0.35925885],\n",
       "       [0.64074115, 0.35925885],\n",
       "       [0.64074115, 0.35925885],\n",
       "       [0.05982502, 0.94017498],\n",
       "       [0.64074115, 0.35925885],\n",
       "       [0.64074115, 0.35925885],\n",
       "       [0.64074115, 0.35925885],\n",
       "       [0.64074115, 0.35925885],\n",
       "       [0.64074115, 0.35925885],\n",
       "       [0.05982502, 0.94017498],\n",
       "       [0.05982502, 0.94017498],\n",
       "       [0.64074115, 0.35925885],\n",
       "       [0.64074115, 0.35925885],\n",
       "       [0.05982502, 0.94017498],\n",
       "       [0.64074115, 0.35925885],\n",
       "       [0.64074115, 0.35925885],\n",
       "       [0.64074115, 0.35925885],\n",
       "       [0.64074115, 0.35925885],\n",
       "       [0.64074115, 0.35925885],\n",
       "       [0.05982502, 0.94017498],\n",
       "       [0.64074115, 0.35925885],\n",
       "       [0.64074115, 0.35925885],\n",
       "       [0.05982502, 0.94017498],\n",
       "       [0.64074115, 0.35925885],\n",
       "       [0.64074115, 0.35925885],\n",
       "       [0.64074115, 0.35925885],\n",
       "       [0.64074115, 0.35925885],\n",
       "       [0.05982502, 0.94017498],\n",
       "       [0.64074115, 0.35925885],\n",
       "       [0.64074115, 0.35925885],\n",
       "       [0.64074115, 0.35925885],\n",
       "       [0.64074115, 0.35925885],\n",
       "       [0.05982502, 0.94017498],\n",
       "       [0.64074115, 0.35925885],\n",
       "       [0.05982502, 0.94017498],\n",
       "       [0.64074115, 0.35925885],\n",
       "       [0.64074115, 0.35925885],\n",
       "       [0.05982502, 0.94017498],\n",
       "       [0.64074115, 0.35925885],\n",
       "       [0.64074115, 0.35925885],\n",
       "       [0.05982502, 0.94017498],\n",
       "       [0.64074115, 0.35925885],\n",
       "       [0.64074115, 0.35925885],\n",
       "       [0.64074115, 0.35925885],\n",
       "       [0.64074115, 0.35925885],\n",
       "       [0.64074115, 0.35925885],\n",
       "       [0.64074115, 0.35925885],\n",
       "       [0.05982502, 0.94017498],\n",
       "       [0.64074115, 0.35925885],\n",
       "       [0.64074115, 0.35925885],\n",
       "       [0.64074115, 0.35925885],\n",
       "       [0.64074115, 0.35925885],\n",
       "       [0.64074115, 0.35925885],\n",
       "       [0.05982502, 0.94017498],\n",
       "       [0.05982502, 0.94017498],\n",
       "       [0.64074115, 0.35925885],\n",
       "       [0.05982502, 0.94017498],\n",
       "       [0.64074115, 0.35925885],\n",
       "       [0.05982502, 0.94017498],\n",
       "       [0.64074115, 0.35925885],\n",
       "       [0.64074115, 0.35925885],\n",
       "       [0.64074115, 0.35925885],\n",
       "       [0.64074115, 0.35925885],\n",
       "       [0.05982502, 0.94017498],\n",
       "       [0.05982502, 0.94017498],\n",
       "       [0.05982502, 0.94017498],\n",
       "       [0.64074115, 0.35925885],\n",
       "       [0.05982502, 0.94017498],\n",
       "       [0.64074115, 0.35925885],\n",
       "       [0.64074115, 0.35925885],\n",
       "       [0.64074115, 0.35925885],\n",
       "       [0.05982502, 0.94017498],\n",
       "       [0.64074115, 0.35925885],\n",
       "       [0.05982502, 0.94017498],\n",
       "       [0.64074115, 0.35925885],\n",
       "       [0.05982502, 0.94017498],\n",
       "       [0.64074115, 0.35925885],\n",
       "       [0.05982502, 0.94017498],\n",
       "       [0.64074115, 0.35925885],\n",
       "       [0.64074115, 0.35925885],\n",
       "       [0.64074115, 0.35925885],\n",
       "       [0.64074115, 0.35925885],\n",
       "       [0.05982502, 0.94017498],\n",
       "       [0.05982502, 0.94017498],\n",
       "       [0.05982502, 0.94017498],\n",
       "       [0.05982502, 0.94017498],\n",
       "       [0.64074115, 0.35925885],\n",
       "       [0.64074115, 0.35925885],\n",
       "       [0.05982502, 0.94017498],\n",
       "       [0.64074115, 0.35925885],\n",
       "       [0.64074115, 0.35925885],\n",
       "       [0.64074115, 0.35925885],\n",
       "       [0.64074115, 0.35925885],\n",
       "       [0.64074115, 0.35925885],\n",
       "       [0.64074115, 0.35925885],\n",
       "       [0.05982502, 0.94017498],\n",
       "       [0.05982502, 0.94017498],\n",
       "       [0.05982502, 0.94017498],\n",
       "       [0.64074115, 0.35925885],\n",
       "       [0.05982502, 0.94017498],\n",
       "       [0.05982502, 0.94017498],\n",
       "       [0.64074115, 0.35925885],\n",
       "       [0.05982502, 0.94017498],\n",
       "       [0.05982502, 0.94017498],\n",
       "       [0.64074115, 0.35925885],\n",
       "       [0.05982502, 0.94017498],\n",
       "       [0.05982502, 0.94017498],\n",
       "       [0.05982502, 0.94017498],\n",
       "       [0.64074115, 0.35925885],\n",
       "       [0.05982502, 0.94017498],\n",
       "       [0.64074115, 0.35925885],\n",
       "       [0.64074115, 0.35925885],\n",
       "       [0.05982502, 0.94017498],\n",
       "       [0.05982502, 0.94017498],\n",
       "       [0.64074115, 0.35925885],\n",
       "       [0.64074115, 0.35925885],\n",
       "       [0.05982502, 0.94017498],\n",
       "       [0.05982502, 0.94017498],\n",
       "       [0.64074115, 0.35925885],\n",
       "       [0.64074115, 0.35925885],\n",
       "       [0.64074115, 0.35925885],\n",
       "       [0.05982502, 0.94017498],\n",
       "       [0.64074115, 0.35925885],\n",
       "       [0.05982502, 0.94017498],\n",
       "       [0.05982502, 0.94017498],\n",
       "       [0.64074115, 0.35925885],\n",
       "       [0.64074115, 0.35925885],\n",
       "       [0.64074115, 0.35925885],\n",
       "       [0.64074115, 0.35925885],\n",
       "       [0.05982502, 0.94017498],\n",
       "       [0.64074115, 0.35925885],\n",
       "       [0.64074115, 0.35925885],\n",
       "       [0.64074115, 0.35925885],\n",
       "       [0.05982502, 0.94017498],\n",
       "       [0.64074115, 0.35925885],\n",
       "       [0.64074115, 0.35925885],\n",
       "       [0.64074115, 0.35925885],\n",
       "       [0.64074115, 0.35925885],\n",
       "       [0.05982502, 0.94017498],\n",
       "       [0.64074115, 0.35925885],\n",
       "       [0.64074115, 0.35925885],\n",
       "       [0.64074115, 0.35925885],\n",
       "       [0.05982502, 0.94017498],\n",
       "       [0.64074115, 0.35925885],\n",
       "       [0.05982502, 0.94017498],\n",
       "       [0.64074115, 0.35925885],\n",
       "       [0.64074115, 0.35925885],\n",
       "       [0.05982502, 0.94017498],\n",
       "       [0.64074115, 0.35925885],\n",
       "       [0.64074115, 0.35925885],\n",
       "       [0.64074115, 0.35925885],\n",
       "       [0.05982502, 0.94017498],\n",
       "       [0.64074115, 0.35925885],\n",
       "       [0.64074115, 0.35925885],\n",
       "       [0.05982502, 0.94017498],\n",
       "       [0.64074115, 0.35925885],\n",
       "       [0.64074115, 0.35925885],\n",
       "       [0.64074115, 0.35925885],\n",
       "       [0.05982502, 0.94017498],\n",
       "       [0.64074115, 0.35925885],\n",
       "       [0.64074115, 0.35925885],\n",
       "       [0.64074115, 0.35925885],\n",
       "       [0.64074115, 0.35925885],\n",
       "       [0.64074115, 0.35925885],\n",
       "       [0.05982502, 0.94017498],\n",
       "       [0.05982502, 0.94017498],\n",
       "       [0.64074115, 0.35925885],\n",
       "       [0.64074115, 0.35925885],\n",
       "       [0.64074115, 0.35925885],\n",
       "       [0.05982502, 0.94017498],\n",
       "       [0.64074115, 0.35925885],\n",
       "       [0.05982502, 0.94017498],\n",
       "       [0.05982502, 0.94017498],\n",
       "       [0.64074115, 0.35925885],\n",
       "       [0.64074115, 0.35925885],\n",
       "       [0.64074115, 0.35925885],\n",
       "       [0.64074115, 0.35925885],\n",
       "       [0.64074115, 0.35925885],\n",
       "       [0.64074115, 0.35925885],\n",
       "       [0.64074115, 0.35925885],\n",
       "       [0.64074115, 0.35925885],\n",
       "       [0.64074115, 0.35925885],\n",
       "       [0.64074115, 0.35925885],\n",
       "       [0.05982502, 0.94017498],\n",
       "       [0.64074115, 0.35925885],\n",
       "       [0.05982502, 0.94017498],\n",
       "       [0.64074115, 0.35925885],\n",
       "       [0.05982502, 0.94017498],\n",
       "       [0.64074115, 0.35925885],\n",
       "       [0.64074115, 0.35925885],\n",
       "       [0.05982502, 0.94017498],\n",
       "       [0.64074115, 0.35925885],\n",
       "       [0.64074115, 0.35925885],\n",
       "       [0.05982502, 0.94017498],\n",
       "       [0.64074115, 0.35925885],\n",
       "       [0.64074115, 0.35925885],\n",
       "       [0.05982502, 0.94017498],\n",
       "       [0.05982502, 0.94017498],\n",
       "       [0.64074115, 0.35925885],\n",
       "       [0.64074115, 0.35925885],\n",
       "       [0.64074115, 0.35925885],\n",
       "       [0.64074115, 0.35925885],\n",
       "       [0.05982502, 0.94017498],\n",
       "       [0.05982502, 0.94017498],\n",
       "       [0.64074115, 0.35925885],\n",
       "       [0.64074115, 0.35925885],\n",
       "       [0.64074115, 0.35925885],\n",
       "       [0.05982502, 0.94017498],\n",
       "       [0.05982502, 0.94017498],\n",
       "       [0.05982502, 0.94017498],\n",
       "       [0.64074115, 0.35925885],\n",
       "       [0.64074115, 0.35925885],\n",
       "       [0.05982502, 0.94017498],\n",
       "       [0.64074115, 0.35925885],\n",
       "       [0.05982502, 0.94017498],\n",
       "       [0.64074115, 0.35925885],\n",
       "       [0.05982502, 0.94017498],\n",
       "       [0.64074115, 0.35925885],\n",
       "       [0.64074115, 0.35925885],\n",
       "       [0.05982502, 0.94017498],\n",
       "       [0.64074115, 0.35925885],\n",
       "       [0.05982502, 0.94017498],\n",
       "       [0.05982502, 0.94017498],\n",
       "       [0.05982502, 0.94017498],\n",
       "       [0.05982502, 0.94017498],\n",
       "       [0.64074115, 0.35925885],\n",
       "       [0.64074115, 0.35925885],\n",
       "       [0.64074115, 0.35925885],\n",
       "       [0.64074115, 0.35925885],\n",
       "       [0.64074115, 0.35925885]])"
      ]
     },
     "execution_count": 20,
     "metadata": {},
     "output_type": "execute_result"
    }
   ],
   "source": [
    "#Predicting over the Train\n",
    "train_predict = logreg.predict_proba(train_y)\n",
    "train_predict"
   ]
  },
  {
   "cell_type": "code",
   "execution_count": 21,
   "metadata": {},
   "outputs": [
    {
     "data": {
      "text/plain": [
       "array([0.94017498, 0.35925885, 0.94017498, 0.35925885, 0.94017498,\n",
       "       0.35925885, 0.94017498, 0.35925885, 0.35925885, 0.35925885,\n",
       "       0.94017498, 0.35925885, 0.94017498, 0.94017498, 0.35925885,\n",
       "       0.35925885, 0.94017498, 0.35925885, 0.35925885, 0.35925885,\n",
       "       0.35925885, 0.35925885, 0.94017498, 0.94017498, 0.35925885,\n",
       "       0.35925885, 0.35925885, 0.94017498, 0.94017498, 0.35925885,\n",
       "       0.94017498, 0.35925885, 0.35925885, 0.35925885, 0.94017498,\n",
       "       0.35925885, 0.35925885, 0.35925885, 0.35925885, 0.35925885,\n",
       "       0.35925885, 0.94017498, 0.94017498, 0.35925885, 0.94017498,\n",
       "       0.35925885, 0.94017498, 0.35925885, 0.94017498, 0.94017498,\n",
       "       0.94017498, 0.35925885, 0.35925885, 0.35925885, 0.35925885,\n",
       "       0.94017498, 0.94017498, 0.35925885, 0.94017498, 0.94017498,\n",
       "       0.35925885, 0.94017498, 0.35925885, 0.35925885, 0.35925885,\n",
       "       0.35925885, 0.35925885, 0.35925885, 0.35925885, 0.94017498,\n",
       "       0.94017498, 0.35925885, 0.35925885, 0.94017498, 0.35925885,\n",
       "       0.35925885, 0.94017498, 0.94017498, 0.35925885, 0.35925885,\n",
       "       0.35925885, 0.35925885, 0.94017498, 0.35925885, 0.94017498,\n",
       "       0.35925885, 0.35925885, 0.35925885, 0.35925885, 0.35925885,\n",
       "       0.35925885, 0.35925885, 0.94017498, 0.35925885, 0.35925885,\n",
       "       0.35925885, 0.35925885, 0.35925885, 0.35925885, 0.35925885,\n",
       "       0.35925885, 0.35925885, 0.35925885, 0.94017498, 0.35925885,\n",
       "       0.35925885, 0.35925885, 0.94017498, 0.35925885, 0.94017498,\n",
       "       0.94017498, 0.94017498, 0.35925885, 0.35925885, 0.35925885,\n",
       "       0.94017498, 0.35925885, 0.94017498, 0.35925885, 0.35925885,\n",
       "       0.35925885, 0.35925885, 0.94017498, 0.35925885, 0.94017498,\n",
       "       0.35925885, 0.35925885, 0.35925885, 0.35925885, 0.94017498,\n",
       "       0.94017498, 0.35925885, 0.94017498, 0.94017498, 0.94017498,\n",
       "       0.94017498, 0.94017498, 0.35925885, 0.35925885, 0.35925885,\n",
       "       0.94017498, 0.35925885, 0.94017498, 0.94017498, 0.35925885,\n",
       "       0.94017498, 0.35925885, 0.94017498, 0.35925885, 0.35925885,\n",
       "       0.35925885, 0.35925885, 0.35925885, 0.94017498, 0.94017498,\n",
       "       0.35925885, 0.94017498, 0.35925885, 0.35925885, 0.94017498,\n",
       "       0.35925885, 0.94017498, 0.35925885, 0.35925885, 0.35925885,\n",
       "       0.35925885, 0.35925885, 0.35925885, 0.35925885, 0.35925885,\n",
       "       0.35925885, 0.35925885, 0.35925885, 0.35925885, 0.35925885,\n",
       "       0.94017498, 0.35925885, 0.35925885, 0.94017498, 0.35925885,\n",
       "       0.35925885, 0.94017498, 0.94017498, 0.35925885, 0.94017498,\n",
       "       0.94017498, 0.35925885, 0.94017498, 0.35925885, 0.35925885,\n",
       "       0.94017498, 0.35925885, 0.94017498, 0.35925885, 0.35925885,\n",
       "       0.35925885, 0.35925885, 0.35925885, 0.35925885, 0.94017498,\n",
       "       0.35925885, 0.35925885, 0.35925885, 0.35925885, 0.35925885,\n",
       "       0.94017498, 0.94017498, 0.35925885, 0.35925885, 0.94017498,\n",
       "       0.35925885, 0.35925885, 0.35925885, 0.35925885, 0.35925885,\n",
       "       0.94017498, 0.35925885, 0.35925885, 0.94017498, 0.35925885,\n",
       "       0.35925885, 0.35925885, 0.35925885, 0.94017498, 0.35925885,\n",
       "       0.35925885, 0.35925885, 0.35925885, 0.94017498, 0.35925885,\n",
       "       0.94017498, 0.35925885, 0.35925885, 0.94017498, 0.35925885,\n",
       "       0.35925885, 0.94017498, 0.35925885, 0.35925885, 0.35925885,\n",
       "       0.35925885, 0.35925885, 0.35925885, 0.94017498, 0.35925885,\n",
       "       0.35925885, 0.35925885, 0.35925885, 0.35925885, 0.94017498,\n",
       "       0.94017498, 0.35925885, 0.94017498, 0.35925885, 0.94017498,\n",
       "       0.35925885, 0.35925885, 0.35925885, 0.35925885, 0.94017498,\n",
       "       0.94017498, 0.94017498, 0.35925885, 0.94017498, 0.35925885,\n",
       "       0.35925885, 0.35925885, 0.94017498, 0.35925885, 0.94017498,\n",
       "       0.35925885, 0.94017498, 0.35925885, 0.94017498, 0.35925885,\n",
       "       0.35925885, 0.35925885, 0.35925885, 0.94017498, 0.94017498,\n",
       "       0.94017498, 0.94017498, 0.35925885, 0.35925885, 0.94017498,\n",
       "       0.35925885, 0.35925885, 0.35925885, 0.35925885, 0.35925885,\n",
       "       0.35925885, 0.94017498, 0.94017498, 0.94017498, 0.35925885,\n",
       "       0.94017498, 0.94017498, 0.35925885, 0.94017498, 0.94017498,\n",
       "       0.35925885, 0.94017498, 0.94017498, 0.94017498, 0.35925885,\n",
       "       0.94017498, 0.35925885, 0.35925885, 0.94017498, 0.94017498,\n",
       "       0.35925885, 0.35925885, 0.94017498, 0.94017498, 0.35925885,\n",
       "       0.35925885, 0.35925885, 0.94017498, 0.35925885, 0.94017498,\n",
       "       0.94017498, 0.35925885, 0.35925885, 0.35925885, 0.35925885,\n",
       "       0.94017498, 0.35925885, 0.35925885, 0.35925885, 0.94017498,\n",
       "       0.35925885, 0.35925885, 0.35925885, 0.35925885, 0.94017498,\n",
       "       0.35925885, 0.35925885, 0.35925885, 0.94017498, 0.35925885,\n",
       "       0.94017498, 0.35925885, 0.35925885, 0.94017498, 0.35925885,\n",
       "       0.35925885, 0.35925885, 0.94017498, 0.35925885, 0.35925885,\n",
       "       0.94017498, 0.35925885, 0.35925885, 0.35925885, 0.94017498,\n",
       "       0.35925885, 0.35925885, 0.35925885, 0.35925885, 0.35925885,\n",
       "       0.94017498, 0.94017498, 0.35925885, 0.35925885, 0.35925885,\n",
       "       0.94017498, 0.35925885, 0.94017498, 0.94017498, 0.35925885,\n",
       "       0.35925885, 0.35925885, 0.35925885, 0.35925885, 0.35925885,\n",
       "       0.35925885, 0.35925885, 0.35925885, 0.35925885, 0.94017498,\n",
       "       0.35925885, 0.94017498, 0.35925885, 0.94017498, 0.35925885,\n",
       "       0.35925885, 0.94017498, 0.35925885, 0.35925885, 0.94017498,\n",
       "       0.35925885, 0.35925885, 0.94017498, 0.94017498, 0.35925885,\n",
       "       0.35925885, 0.35925885, 0.35925885, 0.94017498, 0.94017498,\n",
       "       0.35925885, 0.35925885, 0.35925885, 0.94017498, 0.94017498,\n",
       "       0.94017498, 0.35925885, 0.35925885, 0.94017498, 0.35925885,\n",
       "       0.94017498, 0.35925885, 0.94017498, 0.35925885, 0.35925885,\n",
       "       0.94017498, 0.35925885, 0.94017498, 0.94017498, 0.94017498,\n",
       "       0.94017498, 0.35925885, 0.35925885, 0.35925885, 0.35925885,\n",
       "       0.35925885])"
      ]
     },
     "execution_count": 21,
     "metadata": {},
     "output_type": "execute_result"
    }
   ],
   "source": [
    "train_preds = train_predict[:,1]\n",
    "train_preds"
   ]
  },
  {
   "cell_type": "markdown",
   "metadata": {},
   "source": [
    "### If the probability is more than 0.55 Predict that the cancer is Malignant"
   ]
  },
  {
   "cell_type": "code",
   "execution_count": 22,
   "metadata": {},
   "outputs": [],
   "source": [
    "for i in range(0,len(train_preds)):\n",
    "    if(train_preds[i] > 0.55):\n",
    "        train_preds[i] = 1\n",
    "    else:\n",
    "        train_preds[i] = 0        "
   ]
  },
  {
   "cell_type": "code",
   "execution_count": 23,
   "metadata": {},
   "outputs": [
    {
     "name": "stdout",
     "output_type": "stream",
     "text": [
      "Training f1_score    1.0\n"
     ]
    }
   ],
   "source": [
    "#Calculating f1 - score\n",
    "k = f1_score(train_preds, train_y)\n",
    "print('Training f1_score   ', k)"
   ]
  }
 ],
 "metadata": {
  "kernelspec": {
   "display_name": "Python 3",
   "language": "python",
   "name": "python3"
  },
  "language_info": {
   "codemirror_mode": {
    "name": "ipython",
    "version": 3
   },
   "file_extension": ".py",
   "mimetype": "text/x-python",
   "name": "python",
   "nbconvert_exporter": "python",
   "pygments_lexer": "ipython3",
   "version": "3.8.3"
  }
 },
 "nbformat": 4,
 "nbformat_minor": 4
}
